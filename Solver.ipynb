{
  "nbformat": 4,
  "nbformat_minor": 0,
  "metadata": {
    "colab": {
      "name": "Solver",
      "provenance": []
    },
    "kernelspec": {
      "display_name": "Python 3",
      "name": "python3"
    },
    "language_info": {
      "name": "python"
    }
  },
  "cells": [
    {
      "cell_type": "code",
      "metadata": {
        "id": "UP3YXcqEGDkc",
        "colab": {
          "base_uri": "https://localhost:8080/"
        },
        "outputId": "65d00243-03c9-40fe-d0c0-472e1d64af82"
      },
      "source": [
        "from google.colab import drive\n",
        "import sys\n",
        "drive.mount('/content/gdrive')\n",
        "sys.path.append('/content/gdrive/MyDrive/Sudoku_Solver') "
      ],
      "execution_count": 1,
      "outputs": [
        {
          "output_type": "stream",
          "text": [
            "Mounted at /content/gdrive\n"
          ],
          "name": "stdout"
        }
      ]
    },
    {
      "cell_type": "code",
      "metadata": {
        "id": "Mx91IQxoF41b"
      },
      "source": [
        "import pandas as pd\n",
        "import numpy as np"
      ],
      "execution_count": 2,
      "outputs": []
    },
    {
      "cell_type": "code",
      "metadata": {
        "id": "0qF-QviUGAPO"
      },
      "source": [
        "df = pd.read_csv(\"/content/gdrive/MyDrive/Sudoku_Solver/sudoku.csv\")"
      ],
      "execution_count": 3,
      "outputs": []
    },
    {
      "cell_type": "code",
      "metadata": {
        "id": "wX1_ltzVGzI4",
        "colab": {
          "base_uri": "https://localhost:8080/",
          "height": 343
        },
        "outputId": "44f05277-dff8-4a3d-de9a-a775f31c4c42"
      },
      "source": [
        "df.head(10)"
      ],
      "execution_count": 4,
      "outputs": [
        {
          "output_type": "execute_result",
          "data": {
            "text/html": [
              "<div>\n",
              "<style scoped>\n",
              "    .dataframe tbody tr th:only-of-type {\n",
              "        vertical-align: middle;\n",
              "    }\n",
              "\n",
              "    .dataframe tbody tr th {\n",
              "        vertical-align: top;\n",
              "    }\n",
              "\n",
              "    .dataframe thead th {\n",
              "        text-align: right;\n",
              "    }\n",
              "</style>\n",
              "<table border=\"1\" class=\"dataframe\">\n",
              "  <thead>\n",
              "    <tr style=\"text-align: right;\">\n",
              "      <th></th>\n",
              "      <th>quizzes</th>\n",
              "      <th>solutions</th>\n",
              "    </tr>\n",
              "  </thead>\n",
              "  <tbody>\n",
              "    <tr>\n",
              "      <th>0</th>\n",
              "      <td>0043002090050090010700600430060020871900074000...</td>\n",
              "      <td>8643712593258497619712658434361925871986574322...</td>\n",
              "    </tr>\n",
              "    <tr>\n",
              "      <th>1</th>\n",
              "      <td>0401000501070039605200080000000000170009068008...</td>\n",
              "      <td>3461792581875239645296483719658324174729168358...</td>\n",
              "    </tr>\n",
              "    <tr>\n",
              "      <th>2</th>\n",
              "      <td>6001203840084590720000060050002640300700800069...</td>\n",
              "      <td>6951273841384596727248369158512647392739815469...</td>\n",
              "    </tr>\n",
              "    <tr>\n",
              "      <th>3</th>\n",
              "      <td>4972000001004000050000160986203000403009000000...</td>\n",
              "      <td>4972583161864397252537164986293815473759641828...</td>\n",
              "    </tr>\n",
              "    <tr>\n",
              "      <th>4</th>\n",
              "      <td>0059103080094030600275001000300002010008200070...</td>\n",
              "      <td>4659123781894735623275681497386452919548216372...</td>\n",
              "    </tr>\n",
              "    <tr>\n",
              "      <th>5</th>\n",
              "      <td>1000050073809000006000004808200010750407600200...</td>\n",
              "      <td>1946852373829745166572134898234916755417689237...</td>\n",
              "    </tr>\n",
              "    <tr>\n",
              "      <th>6</th>\n",
              "      <td>0090654300070008006001080200030900025014039608...</td>\n",
              "      <td>2897654313179248566451387297638915425214739688...</td>\n",
              "    </tr>\n",
              "    <tr>\n",
              "      <th>7</th>\n",
              "      <td>0000006577024001003500060005000200092103005000...</td>\n",
              "      <td>8942316577624951833518769425836247192193875646...</td>\n",
              "    </tr>\n",
              "    <tr>\n",
              "      <th>8</th>\n",
              "      <td>5030701900000067500471906004000380009502003000...</td>\n",
              "      <td>5634721982193867548471956234726385199512473866...</td>\n",
              "    </tr>\n",
              "    <tr>\n",
              "      <th>9</th>\n",
              "      <td>0607209080840030017001000659000080000710600000...</td>\n",
              "      <td>1637259485846932717291843659463581273714625898...</td>\n",
              "    </tr>\n",
              "  </tbody>\n",
              "</table>\n",
              "</div>"
            ],
            "text/plain": [
              "                                             quizzes                                          solutions\n",
              "0  0043002090050090010700600430060020871900074000...  8643712593258497619712658434361925871986574322...\n",
              "1  0401000501070039605200080000000000170009068008...  3461792581875239645296483719658324174729168358...\n",
              "2  6001203840084590720000060050002640300700800069...  6951273841384596727248369158512647392739815469...\n",
              "3  4972000001004000050000160986203000403009000000...  4972583161864397252537164986293815473759641828...\n",
              "4  0059103080094030600275001000300002010008200070...  4659123781894735623275681497386452919548216372...\n",
              "5  1000050073809000006000004808200010750407600200...  1946852373829745166572134898234916755417689237...\n",
              "6  0090654300070008006001080200030900025014039608...  2897654313179248566451387297638915425214739688...\n",
              "7  0000006577024001003500060005000200092103005000...  8942316577624951833518769425836247192193875646...\n",
              "8  5030701900000067500471906004000380009502003000...  5634721982193867548471956234726385199512473866...\n",
              "9  0607209080840030017001000659000080000710600000...  1637259485846932717291843659463581273714625898..."
            ]
          },
          "metadata": {
            "tags": []
          },
          "execution_count": 4
        }
      ]
    },
    {
      "cell_type": "code",
      "metadata": {
        "id": "m1XIArlAG9cu"
      },
      "source": [
        "a = df[\"quizzes\"].values[0]"
      ],
      "execution_count": 5,
      "outputs": []
    },
    {
      "cell_type": "code",
      "metadata": {
        "id": "0EwuQoCPHoQF",
        "colab": {
          "base_uri": "https://localhost:8080/"
        },
        "outputId": "ceafdfed-ff5e-4c8d-cfa9-d3c7d3337090"
      },
      "source": [
        "a = np.array(list(a))\n",
        "a = np.int_(a)\n",
        "print(a)"
      ],
      "execution_count": 6,
      "outputs": [
        {
          "output_type": "stream",
          "text": [
            "[0 0 4 3 0 0 2 0 9 0 0 5 0 0 9 0 0 1 0 7 0 0 6 0 0 4 3 0 0 6 0 0 2 0 8 7 1\n",
            " 9 0 0 0 7 4 0 0 0 5 0 0 8 3 0 0 0 6 0 0 0 0 0 1 0 5 0 0 3 5 0 8 6 9 0 0 4\n",
            " 2 9 1 0 3 0 0]\n"
          ],
          "name": "stdout"
        }
      ]
    },
    {
      "cell_type": "code",
      "metadata": {
        "id": "X6XzXfskHyLA",
        "colab": {
          "base_uri": "https://localhost:8080/"
        },
        "outputId": "e2c1e149-5b7a-47be-b68d-5da20925d297"
      },
      "source": [
        "a.reshape(9,9)"
      ],
      "execution_count": 7,
      "outputs": [
        {
          "output_type": "execute_result",
          "data": {
            "text/plain": [
              "array([[0, 0, 4, 3, 0, 0, 2, 0, 9],\n",
              "       [0, 0, 5, 0, 0, 9, 0, 0, 1],\n",
              "       [0, 7, 0, 0, 6, 0, 0, 4, 3],\n",
              "       [0, 0, 6, 0, 0, 2, 0, 8, 7],\n",
              "       [1, 9, 0, 0, 0, 7, 4, 0, 0],\n",
              "       [0, 5, 0, 0, 8, 3, 0, 0, 0],\n",
              "       [6, 0, 0, 0, 0, 0, 1, 0, 5],\n",
              "       [0, 0, 3, 5, 0, 8, 6, 9, 0],\n",
              "       [0, 4, 2, 9, 1, 0, 3, 0, 0]])"
            ]
          },
          "metadata": {
            "tags": []
          },
          "execution_count": 7
        }
      ]
    },
    {
      "cell_type": "code",
      "metadata": {
        "id": "CjgRDSViH0pS",
        "colab": {
          "base_uri": "https://localhost:8080/"
        },
        "outputId": "7cde8318-fe3e-422a-8c5a-5a3e8c619ced"
      },
      "source": [
        "b = df[\"solutions\"].values[0]\n",
        "b = np.array(list(b))\n",
        "b = np.int_(b)\n",
        "print(b)"
      ],
      "execution_count": 8,
      "outputs": [
        {
          "output_type": "stream",
          "text": [
            "[8 6 4 3 7 1 2 5 9 3 2 5 8 4 9 7 6 1 9 7 1 2 6 5 8 4 3 4 3 6 1 9 2 5 8 7 1\n",
            " 9 8 6 5 7 4 3 2 2 5 7 4 8 3 9 1 6 6 8 9 7 3 4 1 2 5 7 1 3 5 2 8 6 9 4 5 4\n",
            " 2 9 1 6 3 7 8]\n"
          ],
          "name": "stdout"
        }
      ]
    },
    {
      "cell_type": "code",
      "metadata": {
        "id": "X0V82vGpIoTb",
        "colab": {
          "base_uri": "https://localhost:8080/"
        },
        "outputId": "e5b8af4b-0762-498e-8c4e-179a7c2079fe"
      },
      "source": [
        "b.reshape(9,9)"
      ],
      "execution_count": 9,
      "outputs": [
        {
          "output_type": "execute_result",
          "data": {
            "text/plain": [
              "array([[8, 6, 4, 3, 7, 1, 2, 5, 9],\n",
              "       [3, 2, 5, 8, 4, 9, 7, 6, 1],\n",
              "       [9, 7, 1, 2, 6, 5, 8, 4, 3],\n",
              "       [4, 3, 6, 1, 9, 2, 5, 8, 7],\n",
              "       [1, 9, 8, 6, 5, 7, 4, 3, 2],\n",
              "       [2, 5, 7, 4, 8, 3, 9, 1, 6],\n",
              "       [6, 8, 9, 7, 3, 4, 1, 2, 5],\n",
              "       [7, 1, 3, 5, 2, 8, 6, 9, 4],\n",
              "       [5, 4, 2, 9, 1, 6, 3, 7, 8]])"
            ]
          },
          "metadata": {
            "tags": []
          },
          "execution_count": 9
        }
      ]
    },
    {
      "cell_type": "code",
      "metadata": {
        "colab": {
          "base_uri": "https://localhost:8080/"
        },
        "id": "_0fpEbClXPq1",
        "outputId": "8c2cca6f-458b-4be1-9c6b-9136db9e8056"
      },
      "source": [
        "print(b-a)"
      ],
      "execution_count": 10,
      "outputs": [
        {
          "output_type": "stream",
          "text": [
            "[8 6 0 0 7 1 0 5 0 3 2 0 8 4 0 7 6 0 9 0 1 2 0 5 8 0 0 4 3 0 1 9 0 5 0 0 0\n",
            " 0 8 6 5 0 0 3 2 2 0 7 4 0 0 9 1 6 0 8 9 7 3 4 0 2 0 7 1 0 0 2 0 0 0 4 5 0\n",
            " 0 0 0 6 0 7 8]\n"
          ],
          "name": "stdout"
        }
      ]
    },
    {
      "cell_type": "code",
      "metadata": {
        "id": "iMorn_WdCW0t"
      },
      "source": [
        ""
      ],
      "execution_count": 10,
      "outputs": []
    }
  ]
}