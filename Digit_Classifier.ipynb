{
 "cells": [
  {
   "cell_type": "code",
   "execution_count": 1,
   "metadata": {
    "id": "KTPSmClOUc2h"
   },
   "outputs": [],
   "source": [
    "import numpy as np\n",
    "import pandas as pd\n",
    "import os\n",
    "from PIL import Image\n",
    "import matplotlib.pyplot as plt\n",
    "%matplotlib inline\n",
    "\n",
    "from sklearn.datasets import fetch_openml\n",
    "from sklearn.model_selection import train_test_split\n",
    "from sklearn.neural_network import MLPClassifier\n",
    "from sklearn import metrics\n",
    "from sklearn.svm import SVC\n",
    "\n",
    "from joblib import dump, load"
   ]
  },
  {
   "cell_type": "code",
   "execution_count": 2,
   "metadata": {
    "id": "bzh70iG3Uc2y"
   },
   "outputs": [],
   "source": [
    "X_mnist,y_mnist = fetch_openml(\"mnist_784\", version = 1, return_X_y = True)\n",
    "\n",
    "X_mnist = np.array(X_mnist)\n",
    "y_mnist = np.int_(y_mnist)\n",
    "X_mnist /= 256"
   ]
  },
  {
   "cell_type": "code",
   "execution_count": 3,
   "metadata": {
    "id": "pVqJIJYSUc21",
    "outputId": "9c1fc658-e5ec-4acf-e6dc-0caa19de5d10",
    "scrolled": false
   },
   "outputs": [],
   "source": [
    "df = pd.DataFrame(X_mnist, columns = [i for i in range(len(X_mnist[0]))])\n",
    "df[\"y\"] = y_mnist"
   ]
  },
  {
   "cell_type": "code",
   "execution_count": 4,
   "metadata": {
    "id": "35AJ_3ooUc26",
    "outputId": "321e71fa-1f62-43c7-feb7-3d267260251a"
   },
   "outputs": [],
   "source": [
    "df.drop(df[ df['y'] == 0 ].index, inplace = True)\n",
    "y_mnist = df[\"y\"].values\n",
    "X_mnist = df.drop([\"y\"], axis = 1).values"
   ]
  },
  {
   "cell_type": "code",
   "execution_count": 5,
   "metadata": {
    "id": "erH1OSWOUc3C",
    "outputId": "9375a83a-45cf-4d39-cd03-c7faa9fcb88a"
   },
   "outputs": [
    {
     "data": {
      "text/plain": [
       "((53632, 784), (9465, 784), (53632,), (9465,))"
      ]
     },
     "execution_count": 5,
     "metadata": {},
     "output_type": "execute_result"
    }
   ],
   "source": [
    "X_train_mnist, X_val_mnist, y_train_mnist, y_val_mnist = train_test_split(X_mnist, y_mnist, test_size=0.15, random_state=42, stratify = y_mnist)\n",
    "X_train_mnist.shape, X_val_mnist.shape, y_train_mnist.shape, y_val_mnist.shape"
   ]
  },
  {
   "cell_type": "code",
   "execution_count": 6,
   "metadata": {
    "id": "fQt5fBh5Uc3G"
   },
   "outputs": [
    {
     "data": {
      "text/plain": [
       "((3456, 784), (3456,))"
      ]
     },
     "execution_count": 6,
     "metadata": {},
     "output_type": "execute_result"
    }
   ],
   "source": [
    "#Creating a dataset for the images in all folders\n",
    "folder_path = r\"digits\"\n",
    "labels = os.listdir(folder_path)\n",
    "X_print = []\n",
    "y_print= []\n",
    "for label in labels:\n",
    "    image_folder = os.path.join(folder_path, label)\n",
    "    images = os.listdir(image_folder)\n",
    "    for img_id in images:\n",
    "        image = Image.open(os.path.join(image_folder, img_id)).convert(\"L\")\n",
    "        X_print.append(np.array(image).reshape(784))\n",
    "        y_print.append(label)\n",
    "\n",
    "X_print = np.array(X_print)/256\n",
    "y_print = np.int_(y_print)\n",
    "\n",
    "X_print.shape, y_print.shape"
   ]
  },
  {
   "cell_type": "code",
   "execution_count": 7,
   "metadata": {
    "id": "EURVu4QAUc3K",
    "outputId": "c4eb6e1c-10a7-486c-e95d-0f8256da4040"
   },
   "outputs": [
    {
     "data": {
      "text/plain": [
       "((2937, 784), (519, 784), (2937,), (519,))"
      ]
     },
     "execution_count": 7,
     "metadata": {},
     "output_type": "execute_result"
    }
   ],
   "source": [
    "X_train_print, X_val_print, y_train_print, y_val_print = train_test_split(X_print, y_print, test_size=0.15, random_state=42, stratify = y_print)\n",
    "X_train_print.shape, X_val_print.shape, y_train_print.shape, y_val_print.shape"
   ]
  },
  {
   "cell_type": "code",
   "execution_count": 8,
   "metadata": {},
   "outputs": [
    {
     "name": "stdout",
     "output_type": "stream",
     "text": [
      "Iteration 1, loss = 2.24476911\n",
      "Iteration 2, loss = 2.03956185\n",
      "Iteration 3, loss = 1.74669554\n",
      "Iteration 4, loss = 1.41213532\n",
      "Iteration 5, loss = 1.13818492\n",
      "Iteration 6, loss = 0.97793390\n",
      "Iteration 7, loss = 0.91747396\n",
      "Iteration 8, loss = 0.71278829\n",
      "Iteration 9, loss = 1.14057891\n",
      "Iteration 10, loss = 0.48335926\n",
      "Iteration 11, loss = 0.26431328\n",
      "Iteration 12, loss = 0.14900470\n",
      "Iteration 13, loss = 0.08408801\n",
      "Iteration 14, loss = 0.04232354\n",
      "Iteration 15, loss = 0.02380673\n",
      "Iteration 16, loss = 0.01056197\n",
      "Iteration 17, loss = 0.00668847\n",
      "Iteration 18, loss = 0.00492540\n",
      "Iteration 19, loss = 0.00377658\n",
      "Iteration 20, loss = 0.00313652\n",
      "Iteration 21, loss = 0.00267379\n",
      "Iteration 22, loss = 0.00240684\n",
      "Iteration 23, loss = 0.00218571\n",
      "Iteration 24, loss = 0.00200735\n",
      "Iteration 25, loss = 0.00185770\n",
      "Iteration 26, loss = 0.00174402\n",
      "Iteration 27, loss = 0.00163124\n",
      "Iteration 28, loss = 0.00153919\n",
      "Iteration 29, loss = 0.00146044\n",
      "Iteration 30, loss = 0.00138860\n",
      "Iteration 31, loss = 0.00132446\n",
      "Iteration 32, loss = 0.00126914\n",
      "Iteration 33, loss = 0.00122075\n",
      "Iteration 34, loss = 0.00117703\n",
      "Iteration 35, loss = 0.00113101\n",
      "Iteration 36, loss = 0.00109513\n",
      "Iteration 37, loss = 0.00105760\n",
      "Iteration 38, loss = 0.00102629\n",
      "Training loss did not improve more than tol=0.000100 for 10 consecutive epochs. Stopping.\n"
     ]
    },
    {
     "data": {
      "text/plain": [
       "['model_dumps/model1.joblib']"
      ]
     },
     "execution_count": 8,
     "metadata": {},
     "output_type": "execute_result"
    }
   ],
   "source": [
    "model1 = MLPClassifier(hidden_layer_sizes=(400, 100, 25), max_iter=50, alpha=1e-4, solver='sgd', verbose=True, random_state=42, learning_rate_init=.1, n_iter_no_change = 10).fit(X_train_print, y_train_print)\n",
    "dump(model1, \"model_dumps/model1.joblib\")"
   ]
  },
  {
   "cell_type": "code",
   "execution_count": 9,
   "metadata": {
    "id": "JwirCajxUc3M",
    "outputId": "a8207324-79f2-4f71-f28e-17bbf1017021"
   },
   "outputs": [
    {
     "name": "stdout",
     "output_type": "stream",
     "text": [
      "Iteration 1, loss = 0.40390400\n",
      "Iteration 2, loss = 0.15536521\n",
      "Iteration 3, loss = 0.11010392\n",
      "Iteration 4, loss = 0.08214811\n",
      "Iteration 5, loss = 0.06238425\n",
      "Iteration 6, loss = 0.05054484\n",
      "Iteration 7, loss = 0.04263926\n",
      "Iteration 8, loss = 0.03514383\n",
      "Iteration 9, loss = 0.03086206\n",
      "Iteration 10, loss = 0.02984688\n",
      "Iteration 11, loss = 0.02960458\n",
      "Iteration 12, loss = 0.02451369\n",
      "Iteration 13, loss = 0.02310209\n",
      "Iteration 14, loss = 0.01725834\n",
      "Iteration 15, loss = 0.01625552\n",
      "Iteration 16, loss = 0.01290607\n",
      "Iteration 17, loss = 0.01525589\n",
      "Iteration 18, loss = 0.01340241\n",
      "Iteration 19, loss = 0.01143431\n",
      "Iteration 20, loss = 0.01424775\n",
      "Iteration 21, loss = 0.01435250\n",
      "Iteration 22, loss = 0.01184106\n",
      "Iteration 23, loss = 0.01484794\n",
      "Iteration 24, loss = 0.00979507\n",
      "Iteration 25, loss = 0.00779330\n",
      "Iteration 26, loss = 0.00492732\n",
      "Iteration 27, loss = 0.00932988\n",
      "Iteration 28, loss = 0.00768916\n",
      "Iteration 29, loss = 0.00795579\n",
      "Iteration 30, loss = 0.00914544\n",
      "Iteration 31, loss = 0.00479069\n",
      "Iteration 32, loss = 0.00568233\n",
      "Iteration 33, loss = 0.00804073\n",
      "Iteration 34, loss = 0.00300660\n",
      "Iteration 35, loss = 0.00155211\n",
      "Iteration 36, loss = 0.00170778\n",
      "Iteration 37, loss = 0.00120376\n",
      "Iteration 38, loss = 0.00096549\n",
      "Iteration 39, loss = 0.00067218\n",
      "Iteration 40, loss = 0.00066000\n",
      "Iteration 41, loss = 0.00065354\n",
      "Iteration 42, loss = 0.00064899\n",
      "Iteration 43, loss = 0.00064539\n",
      "Iteration 44, loss = 0.00064272\n",
      "Iteration 45, loss = 0.00064017\n",
      "Iteration 46, loss = 0.00063806\n",
      "Iteration 47, loss = 0.00063621\n",
      "Iteration 48, loss = 0.00063462\n",
      "Iteration 49, loss = 0.00063325\n",
      "Iteration 50, loss = 0.00063189\n",
      "Training loss did not improve more than tol=0.000100 for 10 consecutive epochs. Stopping.\n"
     ]
    },
    {
     "data": {
      "text/plain": [
       "['model_dumps/model2.joblib']"
      ]
     },
     "execution_count": 9,
     "metadata": {},
     "output_type": "execute_result"
    }
   ],
   "source": [
    "X_train = np.vstack((X_train_mnist, X_train_print))\n",
    "y_train = np.hstack((y_train_mnist, y_train_print))\n",
    "\n",
    "model2 = MLPClassifier(hidden_layer_sizes=(400, 100, 25), max_iter=50, alpha=1e-4, solver='sgd', verbose=True, random_state=42, learning_rate_init=.1, n_iter_no_change = 10).fit(X_train, y_train)\n",
    "dump(model2, \"model_dumps/model2.joblib\")"
   ]
  },
  {
   "cell_type": "code",
   "execution_count": 10,
   "metadata": {},
   "outputs": [
    {
     "name": "stdout",
     "output_type": "stream",
     "text": [
      "Iteration 1, loss = 0.38418228\n",
      "Iteration 2, loss = 0.15919653\n",
      "Iteration 3, loss = 0.10731850\n",
      "Iteration 4, loss = 0.08410730\n",
      "Iteration 5, loss = 0.06672533\n",
      "Iteration 6, loss = 0.05495700\n",
      "Iteration 7, loss = 0.04880150\n",
      "Iteration 8, loss = 0.03767200\n",
      "Iteration 9, loss = 0.03277058\n",
      "Iteration 10, loss = 0.02354048\n",
      "Iteration 11, loss = 0.02578114\n",
      "Iteration 12, loss = 0.01996364\n",
      "Iteration 13, loss = 0.01818054\n",
      "Iteration 14, loss = 0.01675207\n",
      "Iteration 15, loss = 0.02227583\n",
      "Iteration 16, loss = 0.01291502\n",
      "Iteration 17, loss = 0.00791736\n",
      "Iteration 18, loss = 0.00845318\n",
      "Iteration 19, loss = 0.01120780\n",
      "Iteration 20, loss = 0.01707877\n",
      "Iteration 21, loss = 0.01101803\n",
      "Iteration 22, loss = 0.00961749\n",
      "Iteration 23, loss = 0.01320088\n",
      "Iteration 24, loss = 0.01290224\n",
      "Iteration 25, loss = 0.01372531\n",
      "Iteration 26, loss = 0.01332093\n",
      "Iteration 27, loss = 0.00668526\n",
      "Iteration 28, loss = 0.00886269\n",
      "Iteration 29, loss = 0.00513456\n",
      "Iteration 30, loss = 0.00631539\n",
      "Iteration 31, loss = 0.00674291\n",
      "Iteration 32, loss = 0.01472751\n",
      "Iteration 33, loss = 0.01151323\n",
      "Iteration 34, loss = 0.00682808\n",
      "Iteration 35, loss = 0.00339369\n",
      "Iteration 36, loss = 0.00317483\n",
      "Iteration 37, loss = 0.00506161\n",
      "Iteration 38, loss = 0.00475785\n",
      "Iteration 39, loss = 0.00448191\n",
      "Iteration 40, loss = 0.00429484\n",
      "Iteration 41, loss = 0.00349253\n",
      "Iteration 42, loss = 0.00482252\n",
      "Iteration 43, loss = 0.00390925\n",
      "Iteration 44, loss = 0.00428811\n",
      "Iteration 45, loss = 0.00768358\n",
      "Iteration 46, loss = 0.00968714\n",
      "Iteration 47, loss = 0.00348331\n",
      "Training loss did not improve more than tol=0.000100 for 10 consecutive epochs. Stopping.\n"
     ]
    },
    {
     "data": {
      "text/plain": [
       "['model_dumps/model3.joblib']"
      ]
     },
     "execution_count": 10,
     "metadata": {},
     "output_type": "execute_result"
    }
   ],
   "source": [
    "X_train = np.vstack((X_train_mnist, X_print))\n",
    "y_train = np.hstack((y_train_mnist, y_print))\n",
    "\n",
    "model3 = MLPClassifier(hidden_layer_sizes=(400, 100, 25), max_iter=50, alpha=1e-4, solver='sgd', verbose=True, random_state=42, learning_rate_init=.1, n_iter_no_change = 10).fit(X_train, y_train)\n",
    "dump(model3, \"model_dumps/model3.joblib\")"
   ]
  }
 ],
 "metadata": {
  "colab": {
   "collapsed_sections": [],
   "name": "Handwritten_Digit_Classifier.ipynb",
   "provenance": []
  },
  "kernelspec": {
   "display_name": "Python 3",
   "language": "python",
   "name": "python3"
  },
  "language_info": {
   "codemirror_mode": {
    "name": "ipython",
    "version": 3
   },
   "file_extension": ".py",
   "mimetype": "text/x-python",
   "name": "python",
   "nbconvert_exporter": "python",
   "pygments_lexer": "ipython3",
   "version": "3.8.5"
  }
 },
 "nbformat": 4,
 "nbformat_minor": 1
}
