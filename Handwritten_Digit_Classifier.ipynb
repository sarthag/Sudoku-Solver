{
 "cells": [
  {
   "cell_type": "code",
   "execution_count": 1,
   "metadata": {
    "id": "KTPSmClOUc2h"
   },
   "outputs": [],
   "source": [
    "import numpy as np\n",
    "import pandas as pd\n",
    "import os\n",
    "from PIL import Image\n",
    "import matplotlib.pyplot as plt\n",
    "%matplotlib inline\n",
    "\n",
    "from sklearn.datasets import fetch_openml\n",
    "from sklearn.model_selection import train_test_split\n",
    "from sklearn.neural_network import MLPClassifier\n",
    "from sklearn import metrics\n",
    "from sklearn.svm import SVC\n",
    "\n",
    "from joblib import dump, load"
   ]
  },
  {
   "cell_type": "code",
   "execution_count": 2,
   "metadata": {
    "id": "bzh70iG3Uc2y"
   },
   "outputs": [],
   "source": [
    "X_mnist,y_mnist = fetch_openml(\"mnist_784\", version = 1, return_X_y = True)\n",
    "\n",
    "X_mnist = np.array(X_mnist)\n",
    "y_mnist = np.int_(y_mnist)\n",
    "X_mnist /= 256"
   ]
  },
  {
   "cell_type": "code",
   "execution_count": 3,
   "metadata": {
    "id": "pVqJIJYSUc21",
    "outputId": "9c1fc658-e5ec-4acf-e6dc-0caa19de5d10"
   },
   "outputs": [
    {
     "data": {
      "text/html": [
       "<div>\n",
       "<style scoped>\n",
       "    .dataframe tbody tr th:only-of-type {\n",
       "        vertical-align: middle;\n",
       "    }\n",
       "\n",
       "    .dataframe tbody tr th {\n",
       "        vertical-align: top;\n",
       "    }\n",
       "\n",
       "    .dataframe thead th {\n",
       "        text-align: right;\n",
       "    }\n",
       "</style>\n",
       "<table border=\"1\" class=\"dataframe\">\n",
       "  <thead>\n",
       "    <tr style=\"text-align: right;\">\n",
       "      <th></th>\n",
       "      <th>0</th>\n",
       "      <th>1</th>\n",
       "      <th>2</th>\n",
       "      <th>3</th>\n",
       "      <th>4</th>\n",
       "      <th>5</th>\n",
       "      <th>6</th>\n",
       "      <th>7</th>\n",
       "      <th>8</th>\n",
       "      <th>9</th>\n",
       "      <th>...</th>\n",
       "      <th>775</th>\n",
       "      <th>776</th>\n",
       "      <th>777</th>\n",
       "      <th>778</th>\n",
       "      <th>779</th>\n",
       "      <th>780</th>\n",
       "      <th>781</th>\n",
       "      <th>782</th>\n",
       "      <th>783</th>\n",
       "      <th>y</th>\n",
       "    </tr>\n",
       "  </thead>\n",
       "  <tbody>\n",
       "    <tr>\n",
       "      <th>0</th>\n",
       "      <td>0.0</td>\n",
       "      <td>0.0</td>\n",
       "      <td>0.0</td>\n",
       "      <td>0.0</td>\n",
       "      <td>0.0</td>\n",
       "      <td>0.0</td>\n",
       "      <td>0.0</td>\n",
       "      <td>0.0</td>\n",
       "      <td>0.0</td>\n",
       "      <td>0.0</td>\n",
       "      <td>...</td>\n",
       "      <td>0.0</td>\n",
       "      <td>0.0</td>\n",
       "      <td>0.0</td>\n",
       "      <td>0.0</td>\n",
       "      <td>0.0</td>\n",
       "      <td>0.0</td>\n",
       "      <td>0.0</td>\n",
       "      <td>0.0</td>\n",
       "      <td>0.0</td>\n",
       "      <td>5</td>\n",
       "    </tr>\n",
       "    <tr>\n",
       "      <th>1</th>\n",
       "      <td>0.0</td>\n",
       "      <td>0.0</td>\n",
       "      <td>0.0</td>\n",
       "      <td>0.0</td>\n",
       "      <td>0.0</td>\n",
       "      <td>0.0</td>\n",
       "      <td>0.0</td>\n",
       "      <td>0.0</td>\n",
       "      <td>0.0</td>\n",
       "      <td>0.0</td>\n",
       "      <td>...</td>\n",
       "      <td>0.0</td>\n",
       "      <td>0.0</td>\n",
       "      <td>0.0</td>\n",
       "      <td>0.0</td>\n",
       "      <td>0.0</td>\n",
       "      <td>0.0</td>\n",
       "      <td>0.0</td>\n",
       "      <td>0.0</td>\n",
       "      <td>0.0</td>\n",
       "      <td>0</td>\n",
       "    </tr>\n",
       "    <tr>\n",
       "      <th>2</th>\n",
       "      <td>0.0</td>\n",
       "      <td>0.0</td>\n",
       "      <td>0.0</td>\n",
       "      <td>0.0</td>\n",
       "      <td>0.0</td>\n",
       "      <td>0.0</td>\n",
       "      <td>0.0</td>\n",
       "      <td>0.0</td>\n",
       "      <td>0.0</td>\n",
       "      <td>0.0</td>\n",
       "      <td>...</td>\n",
       "      <td>0.0</td>\n",
       "      <td>0.0</td>\n",
       "      <td>0.0</td>\n",
       "      <td>0.0</td>\n",
       "      <td>0.0</td>\n",
       "      <td>0.0</td>\n",
       "      <td>0.0</td>\n",
       "      <td>0.0</td>\n",
       "      <td>0.0</td>\n",
       "      <td>4</td>\n",
       "    </tr>\n",
       "    <tr>\n",
       "      <th>3</th>\n",
       "      <td>0.0</td>\n",
       "      <td>0.0</td>\n",
       "      <td>0.0</td>\n",
       "      <td>0.0</td>\n",
       "      <td>0.0</td>\n",
       "      <td>0.0</td>\n",
       "      <td>0.0</td>\n",
       "      <td>0.0</td>\n",
       "      <td>0.0</td>\n",
       "      <td>0.0</td>\n",
       "      <td>...</td>\n",
       "      <td>0.0</td>\n",
       "      <td>0.0</td>\n",
       "      <td>0.0</td>\n",
       "      <td>0.0</td>\n",
       "      <td>0.0</td>\n",
       "      <td>0.0</td>\n",
       "      <td>0.0</td>\n",
       "      <td>0.0</td>\n",
       "      <td>0.0</td>\n",
       "      <td>1</td>\n",
       "    </tr>\n",
       "    <tr>\n",
       "      <th>4</th>\n",
       "      <td>0.0</td>\n",
       "      <td>0.0</td>\n",
       "      <td>0.0</td>\n",
       "      <td>0.0</td>\n",
       "      <td>0.0</td>\n",
       "      <td>0.0</td>\n",
       "      <td>0.0</td>\n",
       "      <td>0.0</td>\n",
       "      <td>0.0</td>\n",
       "      <td>0.0</td>\n",
       "      <td>...</td>\n",
       "      <td>0.0</td>\n",
       "      <td>0.0</td>\n",
       "      <td>0.0</td>\n",
       "      <td>0.0</td>\n",
       "      <td>0.0</td>\n",
       "      <td>0.0</td>\n",
       "      <td>0.0</td>\n",
       "      <td>0.0</td>\n",
       "      <td>0.0</td>\n",
       "      <td>9</td>\n",
       "    </tr>\n",
       "    <tr>\n",
       "      <th>...</th>\n",
       "      <td>...</td>\n",
       "      <td>...</td>\n",
       "      <td>...</td>\n",
       "      <td>...</td>\n",
       "      <td>...</td>\n",
       "      <td>...</td>\n",
       "      <td>...</td>\n",
       "      <td>...</td>\n",
       "      <td>...</td>\n",
       "      <td>...</td>\n",
       "      <td>...</td>\n",
       "      <td>...</td>\n",
       "      <td>...</td>\n",
       "      <td>...</td>\n",
       "      <td>...</td>\n",
       "      <td>...</td>\n",
       "      <td>...</td>\n",
       "      <td>...</td>\n",
       "      <td>...</td>\n",
       "      <td>...</td>\n",
       "      <td>...</td>\n",
       "    </tr>\n",
       "    <tr>\n",
       "      <th>69995</th>\n",
       "      <td>0.0</td>\n",
       "      <td>0.0</td>\n",
       "      <td>0.0</td>\n",
       "      <td>0.0</td>\n",
       "      <td>0.0</td>\n",
       "      <td>0.0</td>\n",
       "      <td>0.0</td>\n",
       "      <td>0.0</td>\n",
       "      <td>0.0</td>\n",
       "      <td>0.0</td>\n",
       "      <td>...</td>\n",
       "      <td>0.0</td>\n",
       "      <td>0.0</td>\n",
       "      <td>0.0</td>\n",
       "      <td>0.0</td>\n",
       "      <td>0.0</td>\n",
       "      <td>0.0</td>\n",
       "      <td>0.0</td>\n",
       "      <td>0.0</td>\n",
       "      <td>0.0</td>\n",
       "      <td>2</td>\n",
       "    </tr>\n",
       "    <tr>\n",
       "      <th>69996</th>\n",
       "      <td>0.0</td>\n",
       "      <td>0.0</td>\n",
       "      <td>0.0</td>\n",
       "      <td>0.0</td>\n",
       "      <td>0.0</td>\n",
       "      <td>0.0</td>\n",
       "      <td>0.0</td>\n",
       "      <td>0.0</td>\n",
       "      <td>0.0</td>\n",
       "      <td>0.0</td>\n",
       "      <td>...</td>\n",
       "      <td>0.0</td>\n",
       "      <td>0.0</td>\n",
       "      <td>0.0</td>\n",
       "      <td>0.0</td>\n",
       "      <td>0.0</td>\n",
       "      <td>0.0</td>\n",
       "      <td>0.0</td>\n",
       "      <td>0.0</td>\n",
       "      <td>0.0</td>\n",
       "      <td>3</td>\n",
       "    </tr>\n",
       "    <tr>\n",
       "      <th>69997</th>\n",
       "      <td>0.0</td>\n",
       "      <td>0.0</td>\n",
       "      <td>0.0</td>\n",
       "      <td>0.0</td>\n",
       "      <td>0.0</td>\n",
       "      <td>0.0</td>\n",
       "      <td>0.0</td>\n",
       "      <td>0.0</td>\n",
       "      <td>0.0</td>\n",
       "      <td>0.0</td>\n",
       "      <td>...</td>\n",
       "      <td>0.0</td>\n",
       "      <td>0.0</td>\n",
       "      <td>0.0</td>\n",
       "      <td>0.0</td>\n",
       "      <td>0.0</td>\n",
       "      <td>0.0</td>\n",
       "      <td>0.0</td>\n",
       "      <td>0.0</td>\n",
       "      <td>0.0</td>\n",
       "      <td>4</td>\n",
       "    </tr>\n",
       "    <tr>\n",
       "      <th>69998</th>\n",
       "      <td>0.0</td>\n",
       "      <td>0.0</td>\n",
       "      <td>0.0</td>\n",
       "      <td>0.0</td>\n",
       "      <td>0.0</td>\n",
       "      <td>0.0</td>\n",
       "      <td>0.0</td>\n",
       "      <td>0.0</td>\n",
       "      <td>0.0</td>\n",
       "      <td>0.0</td>\n",
       "      <td>...</td>\n",
       "      <td>0.0</td>\n",
       "      <td>0.0</td>\n",
       "      <td>0.0</td>\n",
       "      <td>0.0</td>\n",
       "      <td>0.0</td>\n",
       "      <td>0.0</td>\n",
       "      <td>0.0</td>\n",
       "      <td>0.0</td>\n",
       "      <td>0.0</td>\n",
       "      <td>5</td>\n",
       "    </tr>\n",
       "    <tr>\n",
       "      <th>69999</th>\n",
       "      <td>0.0</td>\n",
       "      <td>0.0</td>\n",
       "      <td>0.0</td>\n",
       "      <td>0.0</td>\n",
       "      <td>0.0</td>\n",
       "      <td>0.0</td>\n",
       "      <td>0.0</td>\n",
       "      <td>0.0</td>\n",
       "      <td>0.0</td>\n",
       "      <td>0.0</td>\n",
       "      <td>...</td>\n",
       "      <td>0.0</td>\n",
       "      <td>0.0</td>\n",
       "      <td>0.0</td>\n",
       "      <td>0.0</td>\n",
       "      <td>0.0</td>\n",
       "      <td>0.0</td>\n",
       "      <td>0.0</td>\n",
       "      <td>0.0</td>\n",
       "      <td>0.0</td>\n",
       "      <td>6</td>\n",
       "    </tr>\n",
       "  </tbody>\n",
       "</table>\n",
       "<p>70000 rows × 785 columns</p>\n",
       "</div>"
      ],
      "text/plain": [
       "         0    1    2    3    4    5    6    7    8    9  ...  775  776  777  \\\n",
       "0      0.0  0.0  0.0  0.0  0.0  0.0  0.0  0.0  0.0  0.0  ...  0.0  0.0  0.0   \n",
       "1      0.0  0.0  0.0  0.0  0.0  0.0  0.0  0.0  0.0  0.0  ...  0.0  0.0  0.0   \n",
       "2      0.0  0.0  0.0  0.0  0.0  0.0  0.0  0.0  0.0  0.0  ...  0.0  0.0  0.0   \n",
       "3      0.0  0.0  0.0  0.0  0.0  0.0  0.0  0.0  0.0  0.0  ...  0.0  0.0  0.0   \n",
       "4      0.0  0.0  0.0  0.0  0.0  0.0  0.0  0.0  0.0  0.0  ...  0.0  0.0  0.0   \n",
       "...    ...  ...  ...  ...  ...  ...  ...  ...  ...  ...  ...  ...  ...  ...   \n",
       "69995  0.0  0.0  0.0  0.0  0.0  0.0  0.0  0.0  0.0  0.0  ...  0.0  0.0  0.0   \n",
       "69996  0.0  0.0  0.0  0.0  0.0  0.0  0.0  0.0  0.0  0.0  ...  0.0  0.0  0.0   \n",
       "69997  0.0  0.0  0.0  0.0  0.0  0.0  0.0  0.0  0.0  0.0  ...  0.0  0.0  0.0   \n",
       "69998  0.0  0.0  0.0  0.0  0.0  0.0  0.0  0.0  0.0  0.0  ...  0.0  0.0  0.0   \n",
       "69999  0.0  0.0  0.0  0.0  0.0  0.0  0.0  0.0  0.0  0.0  ...  0.0  0.0  0.0   \n",
       "\n",
       "       778  779  780  781  782  783  y  \n",
       "0      0.0  0.0  0.0  0.0  0.0  0.0  5  \n",
       "1      0.0  0.0  0.0  0.0  0.0  0.0  0  \n",
       "2      0.0  0.0  0.0  0.0  0.0  0.0  4  \n",
       "3      0.0  0.0  0.0  0.0  0.0  0.0  1  \n",
       "4      0.0  0.0  0.0  0.0  0.0  0.0  9  \n",
       "...    ...  ...  ...  ...  ...  ... ..  \n",
       "69995  0.0  0.0  0.0  0.0  0.0  0.0  2  \n",
       "69996  0.0  0.0  0.0  0.0  0.0  0.0  3  \n",
       "69997  0.0  0.0  0.0  0.0  0.0  0.0  4  \n",
       "69998  0.0  0.0  0.0  0.0  0.0  0.0  5  \n",
       "69999  0.0  0.0  0.0  0.0  0.0  0.0  6  \n",
       "\n",
       "[70000 rows x 785 columns]"
      ]
     },
     "execution_count": 3,
     "metadata": {},
     "output_type": "execute_result"
    }
   ],
   "source": [
    "df = pd.DataFrame(X_mnist, columns = [i for i in range(len(X_mnist[0]))])\n",
    "df[\"y\"] = y_mnist\n",
    "df"
   ]
  },
  {
   "cell_type": "code",
   "execution_count": 4,
   "metadata": {
    "id": "35AJ_3ooUc26",
    "outputId": "321e71fa-1f62-43c7-feb7-3d267260251a"
   },
   "outputs": [
    {
     "data": {
      "text/plain": [
       "((63097,), (63097, 784))"
      ]
     },
     "execution_count": 4,
     "metadata": {},
     "output_type": "execute_result"
    }
   ],
   "source": [
    "df.drop(df[ df['y'] == 0 ].index, inplace = True)\n",
    "y_mnist = df[\"y\"].values\n",
    "X_mnist = df.drop([\"y\"], axis = 1).values\n",
    "y_mnist.shape, X_mnist.shape"
   ]
  },
  {
   "cell_type": "code",
   "execution_count": 5,
   "metadata": {
    "id": "5hY_PfUwUc29"
   },
   "outputs": [],
   "source": [
    "X_0 = []\n",
    "y_0 = []\n",
    "folder = r\"digits/0\"\n",
    "images = os.listdir(folder)\n",
    "for img_id in images:\n",
    "    image = Image.open(os.path.join(folder, img_id)).convert(\"L\")\n",
    "    X_0.append(np.array(image).reshape(784))\n",
    "    y_0.append(0)\n",
    "X_0 = np.array(X_0)/256\n",
    "y_0 = np.int_(y_0)"
   ]
  },
  {
   "cell_type": "code",
   "execution_count": 6,
   "metadata": {
    "id": "raFOqhykUc2_",
    "outputId": "b9f87de3-0fa0-41c6-c50f-d82a0eb1673f"
   },
   "outputs": [
    {
     "data": {
      "text/plain": [
       "((18,), (18, 784))"
      ]
     },
     "execution_count": 6,
     "metadata": {},
     "output_type": "execute_result"
    }
   ],
   "source": [
    "y_0.shape, X_0.shape"
   ]
  },
  {
   "cell_type": "code",
   "execution_count": 7,
   "metadata": {
    "id": "2GF8SYNoUc3A",
    "outputId": "2dfb0b47-4f33-4131-b612-93b3a2e11e1b"
   },
   "outputs": [
    {
     "data": {
      "text/plain": [
       "((63115,), (63115, 784))"
      ]
     },
     "execution_count": 7,
     "metadata": {},
     "output_type": "execute_result"
    }
   ],
   "source": [
    "X_mnist = np.vstack((X_mnist, X_0))\n",
    "y_mnist = np.hstack((y_mnist, y_0))\n",
    "\n",
    "y_mnist.shape, X_mnist.shape"
   ]
  },
  {
   "cell_type": "code",
   "execution_count": 8,
   "metadata": {
    "id": "erH1OSWOUc3C",
    "outputId": "9375a83a-45cf-4d39-cd03-c7faa9fcb88a"
   },
   "outputs": [
    {
     "data": {
      "text/plain": [
       "((53647, 784), (9468, 784), (53647,), (9468,))"
      ]
     },
     "execution_count": 8,
     "metadata": {},
     "output_type": "execute_result"
    }
   ],
   "source": [
    "X_train_mnist, X_val_mnist, y_train_mnist, y_val_mnist = train_test_split(X_mnist, y_mnist, test_size=0.15, random_state=42, stratify = y_mnist)\n",
    "X_train_mnist.shape, X_val_mnist.shape, y_train_mnist.shape, y_val_mnist.shape"
   ]
  },
  {
   "cell_type": "code",
   "execution_count": 9,
   "metadata": {
    "id": "fQt5fBh5Uc3G"
   },
   "outputs": [
    {
     "data": {
      "text/plain": [
       "((3456, 784), (3456,))"
      ]
     },
     "execution_count": 9,
     "metadata": {},
     "output_type": "execute_result"
    }
   ],
   "source": [
    "#Creating a dataset for the images in all folders\n",
    "folder_path = r\"digits\"\n",
    "labels = os.listdir(folder_path)\n",
    "X_print = []\n",
    "y_print= []\n",
    "for label in labels:\n",
    "    image_folder = os.path.join(folder_path, label)\n",
    "    images = os.listdir(image_folder)\n",
    "    for img_id in images:\n",
    "        image = Image.open(os.path.join(image_folder, img_id)).convert(\"L\")\n",
    "        X_print.append(np.array(image).reshape(784))\n",
    "        y_print.append(label)\n",
    "\n",
    "X_print = np.array(X_print)/256\n",
    "y_print = np.int_(y_print)\n",
    "\n",
    "X_print.shape, y_print.shape"
   ]
  },
  {
   "cell_type": "code",
   "execution_count": 10,
   "metadata": {
    "id": "EURVu4QAUc3K",
    "outputId": "c4eb6e1c-10a7-486c-e95d-0f8256da4040"
   },
   "outputs": [
    {
     "data": {
      "text/plain": [
       "((2937, 784), (519, 784), (2937,), (519,))"
      ]
     },
     "execution_count": 10,
     "metadata": {},
     "output_type": "execute_result"
    }
   ],
   "source": [
    "X_train_print, X_val_print, y_train_print, y_val_print = train_test_split(X_print, y_print, test_size=0.15, random_state=42, stratify = y_print)\n",
    "X_train_print.shape, X_val_print.shape, y_train_print.shape, y_val_print.shape"
   ]
  },
  {
   "cell_type": "code",
   "execution_count": 11,
   "metadata": {
    "id": "6pY_mPmwU-BY"
   },
   "outputs": [],
   "source": [
    "X_train = np.vstack((X_train_mnist, X_train_print))\n",
    "y_train = np.hstack((y_train_mnist, y_train_print))"
   ]
  },
  {
   "cell_type": "code",
   "execution_count": 12,
   "metadata": {
    "id": "JwirCajxUc3M",
    "outputId": "a8207324-79f2-4f71-f28e-17bbf1017021"
   },
   "outputs": [
    {
     "name": "stdout",
     "output_type": "stream",
     "text": [
      "Iteration 1, loss = 0.36783053\n",
      "Iteration 2, loss = 0.16202776\n",
      "Iteration 3, loss = 0.11361967\n",
      "Iteration 4, loss = 0.08403816\n",
      "Iteration 5, loss = 0.06620139\n",
      "Iteration 6, loss = 0.05184820\n",
      "Iteration 7, loss = 0.03695070\n",
      "Iteration 8, loss = 0.03109519\n",
      "Iteration 9, loss = 0.02792062\n",
      "Iteration 10, loss = 0.02289526\n",
      "Iteration 11, loss = 0.01927938\n",
      "Iteration 12, loss = 0.01627449\n",
      "Iteration 13, loss = 0.01449091\n",
      "Iteration 14, loss = 0.01169539\n",
      "Iteration 15, loss = 0.00694160\n",
      "Iteration 16, loss = 0.00359143\n",
      "Iteration 17, loss = 0.00522076\n",
      "Iteration 18, loss = 0.00382416\n",
      "Iteration 19, loss = 0.00331904\n",
      "Iteration 20, loss = 0.00303273\n",
      "Iteration 21, loss = 0.00290178\n",
      "Iteration 22, loss = 0.00559683\n",
      "Iteration 23, loss = 0.01262798\n",
      "Iteration 24, loss = 0.01041655\n",
      "Iteration 25, loss = 0.01812080\n",
      "Iteration 26, loss = 0.02185560\n",
      "Iteration 27, loss = 0.01533755\n",
      "Iteration 28, loss = 0.00965672\n",
      "Iteration 29, loss = 0.00356698\n",
      "Iteration 30, loss = 0.00186574\n",
      "Iteration 31, loss = 0.00404898\n",
      "Iteration 32, loss = 0.00346011\n",
      "Iteration 33, loss = 0.00108925\n",
      "Iteration 34, loss = 0.00067748\n",
      "Iteration 35, loss = 0.00059896\n",
      "Iteration 36, loss = 0.00057922\n",
      "Iteration 37, loss = 0.00056642\n",
      "Iteration 38, loss = 0.00055671\n",
      "Iteration 39, loss = 0.00054933\n",
      "Iteration 40, loss = 0.00054295\n",
      "Iteration 41, loss = 0.00053788\n",
      "Iteration 42, loss = 0.00053336\n",
      "Iteration 43, loss = 0.00052936\n",
      "Iteration 44, loss = 0.00052601\n",
      "Iteration 45, loss = 0.00052299\n",
      "Iteration 46, loss = 0.00052014\n",
      "Iteration 47, loss = 0.00051754\n",
      "Iteration 48, loss = 0.00051535\n",
      "Iteration 49, loss = 0.00051313\n",
      "Iteration 50, loss = 0.00051129\n"
     ]
    },
    {
     "name": "stderr",
     "output_type": "stream",
     "text": [
      "C:\\Users\\sarth\\anaconda3\\lib\\site-packages\\sklearn\\neural_network\\_multilayer_perceptron.py:582: ConvergenceWarning: Stochastic Optimizer: Maximum iterations (50) reached and the optimization hasn't converged yet.\n",
      "  warnings.warn(\n"
     ]
    },
    {
     "name": "stdout",
     "output_type": "stream",
     "text": [
      "train accuracy:  1.0\n"
     ]
    }
   ],
   "source": [
    "from sklearn.neural_network import MLPClassifier\n",
    "MLP_model = MLPClassifier(hidden_layer_sizes=(250, 50), max_iter=50, alpha=1e-4, solver='sgd', verbose=100, random_state=42, learning_rate_init=.1, n_iter_no_change = 50).fit(X_train, y_train)\n",
    "print(\"train accuracy: \",MLP_model.score(X_train, y_train))"
   ]
  },
  {
   "cell_type": "code",
   "execution_count": 13,
   "metadata": {
    "id": "5abBrRtoUc3N",
    "outputId": "ad9e3101-99cd-424c-96c1-4c7b8d40c8be"
   },
   "outputs": [
    {
     "name": "stdout",
     "output_type": "stream",
     "text": [
      "mnist vaidation accuracy:  0.9834178284748627\n"
     ]
    }
   ],
   "source": [
    "y_pred_mnist = MLP_model.predict(X_val_mnist)\n",
    "print(\"mnist vaidation accuracy: \",MLP_model.score(X_val_mnist, y_val_mnist))"
   ]
  },
  {
   "cell_type": "code",
   "execution_count": 14,
   "metadata": {},
   "outputs": [
    {
     "data": {
      "text/plain": [
       "['model_dumps/MLP_onMNIST.joblib']"
      ]
     },
     "execution_count": 14,
     "metadata": {},
     "output_type": "execute_result"
    }
   ],
   "source": [
    "dump(MLP_model, \"model_dumps/MLP_onMNIST.joblib\")"
   ]
  },
  {
   "cell_type": "code",
   "execution_count": 15,
   "metadata": {
    "id": "szvA5ylSUc3P",
    "outputId": "3f2bc2e0-094c-48b9-c917-cc587936ab8e"
   },
   "outputs": [
    {
     "name": "stdout",
     "output_type": "stream",
     "text": [
      "              precision    recall  f1-score   support\n",
      "\n",
      "           0       1.00      1.00      1.00         3\n",
      "           1       0.99      0.99      0.99      1182\n",
      "           2       0.99      0.98      0.99      1048\n",
      "           3       0.98      0.98      0.98      1071\n",
      "           4       0.99      0.98      0.98      1024\n",
      "           5       0.98      0.98      0.98       947\n",
      "           6       0.99      0.99      0.99      1031\n",
      "           7       0.98      0.99      0.98      1094\n",
      "           8       0.98      0.98      0.98      1024\n",
      "           9       0.98      0.98      0.98      1044\n",
      "\n",
      "    accuracy                           0.98      9468\n",
      "   macro avg       0.99      0.98      0.98      9468\n",
      "weighted avg       0.98      0.98      0.98      9468\n",
      "\n"
     ]
    }
   ],
   "source": [
    "print(metrics.classification_report(y_val_mnist, y_pred_mnist))"
   ]
  },
  {
   "cell_type": "code",
   "execution_count": 16,
   "metadata": {
    "id": "Zvfq1bMlUc3R",
    "outputId": "43287ad7-90f7-4c3e-bae7-2a077c5c8dc8"
   },
   "outputs": [
    {
     "name": "stdout",
     "output_type": "stream",
     "text": [
      "mnist vaidation accuracy:  0.8420038535645472\n"
     ]
    }
   ],
   "source": [
    "y_pred_print = MLP_model.predict(X_val_print)\n",
    "print(\"mnist vaidation accuracy: \",MLP_model.score(X_val_print, y_val_print))"
   ]
  },
  {
   "cell_type": "code",
   "execution_count": 17,
   "metadata": {
    "id": "ucuEhHRGUc3S"
   },
   "outputs": [
    {
     "name": "stdout",
     "output_type": "stream",
     "text": [
      "              precision    recall  f1-score   support\n",
      "\n",
      "           0       0.60      1.00      0.75         3\n",
      "           1       0.93      0.95      0.94        56\n",
      "           2       0.91      0.81      0.85        62\n",
      "           3       0.82      0.88      0.85        58\n",
      "           4       0.88      0.81      0.85        54\n",
      "           5       0.84      0.81      0.82        58\n",
      "           6       0.77      0.79      0.78        52\n",
      "           7       0.95      0.92      0.93        62\n",
      "           8       0.71      0.76      0.74        55\n",
      "           9       0.79      0.83      0.81        59\n",
      "\n",
      "    accuracy                           0.84       519\n",
      "   macro avg       0.82      0.86      0.83       519\n",
      "weighted avg       0.85      0.84      0.84       519\n",
      "\n"
     ]
    }
   ],
   "source": [
    "print(metrics.classification_report(y_val_print, y_pred_print))"
   ]
  }
 ],
 "metadata": {
  "colab": {
   "collapsed_sections": [],
   "name": "Handwritten_Digit_Classifier.ipynb",
   "provenance": []
  },
  "kernelspec": {
   "display_name": "Python 3",
   "language": "python",
   "name": "python3"
  },
  "language_info": {
   "codemirror_mode": {
    "name": "ipython",
    "version": 3
   },
   "file_extension": ".py",
   "mimetype": "text/x-python",
   "name": "python",
   "nbconvert_exporter": "python",
   "pygments_lexer": "ipython3",
   "version": "3.8.5"
  }
 },
 "nbformat": 4,
 "nbformat_minor": 1
}
