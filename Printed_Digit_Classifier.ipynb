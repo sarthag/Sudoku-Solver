{
 "cells": [
  {
   "cell_type": "code",
   "execution_count": 1,
   "metadata": {},
   "outputs": [],
   "source": [
    "import numpy as np\n",
    "import pandas as pd\n",
    "import os\n",
    "from PIL import Image\n",
    "import matplotlib.pyplot as plt\n",
    "%matplotlib inline\n",
    "\n",
    "from sklearn.model_selection import train_test_split\n",
    "from sklearn.neural_network import MLPClassifier\n",
    "from sklearn import metrics\n",
    "from sklearn.svm import SVC\n",
    "\n",
    "from joblib import dump, load"
   ]
  },
  {
   "cell_type": "code",
   "execution_count": 2,
   "metadata": {},
   "outputs": [],
   "source": [
    "image_size = (28,28)\n",
    "channels = 1\n",
    "folder_path = r\"digits\"\n",
    "labels = os.listdir(folder_path)"
   ]
  },
  {
   "cell_type": "code",
   "execution_count": 3,
   "metadata": {},
   "outputs": [],
   "source": [
    "#Creating a dataset for the images in all folders\n",
    "X = []\n",
    "y = []\n",
    "for label in labels:\n",
    "    image_folder = os.path.join(folder_path, label)\n",
    "    images = os.listdir(image_folder)\n",
    "    for img_id in images:\n",
    "        image = Image.open(os.path.join(image_folder, img_id)).convert(\"L\")\n",
    "        X.append(np.array(image).reshape(784))\n",
    "        y.append(label)\n",
    "\n",
    "X = np.array(X)/256\n",
    "y = np.int_(y)"
   ]
  },
  {
   "cell_type": "code",
   "execution_count": 4,
   "metadata": {},
   "outputs": [
    {
     "name": "stdout",
     "output_type": "stream",
     "text": [
      "(3456, 784)\n",
      "(3456,)\n"
     ]
    }
   ],
   "source": [
    "print(X.shape)\n",
    "print(y.shape)"
   ]
  },
  {
   "cell_type": "code",
   "execution_count": 5,
   "metadata": {},
   "outputs": [
    {
     "data": {
      "text/plain": [
       "<matplotlib.image.AxesImage at 0x1a2da1623a0>"
      ]
     },
     "execution_count": 5,
     "metadata": {},
     "output_type": "execute_result"
    },
    {
     "data": {
      "image/png": "[encoded data removed]",
      "text/plain": [
       "<Figure size 432x288 with 1 Axes>"
      ]
     },
     "metadata": {
      "needs_background": "light"
     },
     "output_type": "display_data"
    }
   ],
   "source": [
    "plt.imshow(X[1000].reshape(28,28), cmap = \"gray\")"
   ]
  },
  {
   "cell_type": "code",
   "execution_count": 6,
   "metadata": {},
   "outputs": [
    {
     "data": {
      "text/plain": [
       "((2937, 784), (519, 784), (2937,), (519,))"
      ]
     },
     "execution_count": 6,
     "metadata": {},
     "output_type": "execute_result"
    }
   ],
   "source": [
    "X_train, X_val, y_train, y_val = train_test_split(X, y, test_size=0.15, random_state=42, stratify = y)\n",
    "X_train.shape, X_val.shape, y_train.shape, y_val.shape"
   ]
  },
  {
   "cell_type": "code",
   "execution_count": 7,
   "metadata": {},
   "outputs": [
    {
     "name": "stdout",
     "output_type": "stream",
     "text": [
      "Iteration 1, loss = 2.24476911\n",
      "Iteration 2, loss = 2.03956185\n",
      "Iteration 3, loss = 1.74669554\n",
      "Iteration 4, loss = 1.41213532\n",
      "Iteration 5, loss = 1.13818492\n",
      "Iteration 6, loss = 0.97793390\n",
      "Iteration 7, loss = 0.91747396\n",
      "Iteration 8, loss = 0.71278829\n",
      "Iteration 9, loss = 1.14057891\n",
      "Iteration 10, loss = 0.48335926\n",
      "Iteration 11, loss = 0.26431328\n",
      "Iteration 12, loss = 0.14900470\n",
      "Iteration 13, loss = 0.08408801\n",
      "Iteration 14, loss = 0.04232354\n",
      "Iteration 15, loss = 0.02380673\n",
      "Iteration 16, loss = 0.01056197\n",
      "Iteration 17, loss = 0.00668847\n",
      "Iteration 18, loss = 0.00492540\n",
      "Iteration 19, loss = 0.00377658\n",
      "Iteration 20, loss = 0.00313652\n",
      "Iteration 21, loss = 0.00267379\n",
      "Iteration 22, loss = 0.00240684\n",
      "Iteration 23, loss = 0.00218571\n",
      "Iteration 24, loss = 0.00200735\n",
      "Iteration 25, loss = 0.00185770\n",
      "Iteration 26, loss = 0.00174402\n",
      "Iteration 27, loss = 0.00163124\n",
      "Iteration 28, loss = 0.00153919\n",
      "Iteration 29, loss = 0.00146044\n",
      "Iteration 30, loss = 0.00138860\n",
      "Iteration 31, loss = 0.00132446\n",
      "Iteration 32, loss = 0.00126914\n",
      "Iteration 33, loss = 0.00122075\n",
      "Iteration 34, loss = 0.00117703\n",
      "Iteration 35, loss = 0.00113101\n",
      "Iteration 36, loss = 0.00109513\n",
      "Iteration 37, loss = 0.00105760\n",
      "Iteration 38, loss = 0.00102629\n",
      "Iteration 39, loss = 0.00099722\n",
      "Iteration 40, loss = 0.00097046\n",
      "Iteration 41, loss = 0.00094271\n",
      "Iteration 42, loss = 0.00091959\n",
      "Iteration 43, loss = 0.00089667\n",
      "Iteration 44, loss = 0.00087663\n",
      "Iteration 45, loss = 0.00085802\n",
      "Iteration 46, loss = 0.00083939\n",
      "Iteration 47, loss = 0.00082207\n",
      "Iteration 48, loss = 0.00080611\n",
      "Iteration 49, loss = 0.00079131\n",
      "Iteration 50, loss = 0.00077778\n",
      "Iteration 51, loss = 0.00076497\n",
      "Iteration 52, loss = 0.00075139\n",
      "Iteration 53, loss = 0.00073851\n",
      "Iteration 54, loss = 0.00072801\n",
      "Iteration 55, loss = 0.00071679\n",
      "Iteration 56, loss = 0.00070621\n",
      "Iteration 57, loss = 0.00069687\n",
      "Iteration 58, loss = 0.00068644\n",
      "Iteration 59, loss = 0.00067810\n",
      "Iteration 60, loss = 0.00066901\n",
      "Iteration 61, loss = 0.00066098\n",
      "Iteration 62, loss = 0.00065298\n",
      "Iteration 63, loss = 0.00064550\n",
      "Iteration 64, loss = 0.00063816\n",
      "Iteration 65, loss = 0.00063133\n",
      "Iteration 66, loss = 0.00062473\n",
      "Iteration 67, loss = 0.00061787\n",
      "Iteration 68, loss = 0.00061198\n",
      "Iteration 69, loss = 0.00060592\n",
      "Iteration 70, loss = 0.00060057\n",
      "Iteration 71, loss = 0.00059484\n",
      "Iteration 72, loss = 0.00058967\n",
      "Iteration 73, loss = 0.00058454\n",
      "Iteration 74, loss = 0.00057977\n",
      "Iteration 75, loss = 0.00057473\n",
      "Iteration 76, loss = 0.00057022\n",
      "Iteration 77, loss = 0.00056603\n",
      "Iteration 78, loss = 0.00056157\n",
      "Training loss did not improve more than tol=0.000100 for 50 consecutive epochs. Stopping.\n",
      "train accuracy:  1.0\n"
     ]
    }
   ],
   "source": [
    "from sklearn.neural_network import MLPClassifier\n",
    "MLP_model = MLPClassifier(hidden_layer_sizes=(400, 100, 25), max_iter=250, alpha=1e-4, solver='sgd', verbose=100, random_state=42, learning_rate_init=.1, n_iter_no_change = 50).fit(X_train, y_train)\n",
    "print(\"train accuracy: \",MLP_model.score(X_train, y_train))"
   ]
  },
  {
   "cell_type": "code",
   "execution_count": 8,
   "metadata": {},
   "outputs": [
    {
     "name": "stdout",
     "output_type": "stream",
     "text": [
      "vaidation accuracy:  0.8709055876685935\n"
     ]
    }
   ],
   "source": [
    "y_pred = MLP_model.predict(X_val)\n",
    "print(\"vaidation accuracy: \",MLP_model.score(X_val, y_val))"
   ]
  },
  {
   "cell_type": "code",
   "execution_count": 9,
   "metadata": {},
   "outputs": [
    {
     "data": {
      "text/plain": [
       "['model_dumps/MLP_onPrinted.joblib']"
      ]
     },
     "execution_count": 9,
     "metadata": {},
     "output_type": "execute_result"
    }
   ],
   "source": [
    "dump(MLP_model, 'model_dumps/MLP_onPrinted.joblib')"
   ]
  }
 ],
 "metadata": {
  "kernelspec": {
   "display_name": "Python 3",
   "language": "python",
   "name": "python3"
  },
  "language_info": {
   "codemirror_mode": {
    "name": "ipython",
    "version": 3
   },
   "file_extension": ".py",
   "mimetype": "text/x-python",
   "name": "python",
   "nbconvert_exporter": "python",
   "pygments_lexer": "ipython3",
   "version": "3.8.5"
  }
 },
 "nbformat": 4,
 "nbformat_minor": 4
}
